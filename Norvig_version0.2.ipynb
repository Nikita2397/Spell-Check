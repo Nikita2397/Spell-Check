{
 "cells": [
  {
   "cell_type": "markdown",
   "metadata": {},
   "source": [
    "##### @author: Nikita\n",
    "##### @date: 13-05-2021 Tuesday\n",
    "##### @email: nikitarora.21@gmail.com"
   ]
  },
  {
   "cell_type": "code",
   "execution_count": 1,
   "metadata": {},
   "outputs": [],
   "source": [
    "import re\n",
    "import json\n",
    "import codecs\n",
    "from math import sqrt\n",
    "from collections import Counter\n",
    "from collections import OrderedDict"
   ]
  },
  {
   "cell_type": "code",
   "execution_count": 2,
   "metadata": {},
   "outputs": [],
   "source": [
    "def words(text):\n",
    "    return re.findall(r'\\w+', text.lower())     # \\w+ matches one or more word characters (i.e., [a-zA-Z0-9_]).\n",
    "\n",
    "WORDS = Counter(words(open('big.txt').read()))\n",
    "\n",
    "# probability of 'word'\n",
    "def P(word, N=sum(WORDS.values())):\n",
    "    return WORDS[word] / float(N)\n",
    "\n",
    "# most probable spelling correction for word\n",
    "def correction(word): \n",
    "    return max(candidates(word), key=P)\n",
    "\n",
    "# generate possible spelling corrections for word\n",
    "def candidates(word): \n",
    "    return (known([word]) or known(edits1(word)) or known(edits2(word)) or [word])\n",
    "\n",
    "# the subset of `words` that appear in the dictionary of WORDS\n",
    "def known(words): \n",
    "    return set(w for w in words if w in WORDS)\n",
    "\n",
    "# all edits that are one edit away from `word`\n",
    "def edits1(word):\n",
    "    letters    = 'abcdefghijklmnopqrstuvwxyz'\n",
    "    splits     = [(word[:i], word[i:])    for i in range(len(word) + 1)]\n",
    "    deletes    = [L + R[1:]               for L, R in splits if R]\n",
    "    transposes = [L + R[1] + R[0] + R[2:] for L, R in splits if len(R)>1]\n",
    "    replaces   = [L + c + R[1:]           for L, R in splits if R for c in letters]\n",
    "    inserts    = [L + c + R               for L, R in splits for c in letters]\n",
    "    return set(deletes + transposes + replaces + inserts)\n",
    "\n",
    "# all edits that are two edits away from `word`.\n",
    "def edits2(word):\n",
    "    return (e2 for e1 in edits1(word) for e2 in edits1(e1))\n",
    "\n",
    "def saveDict(path):\n",
    "    with codecs.open(path, mode='w', encoding='UTF8') as dict_file:\n",
    "        # big_dict = sorted(WORDS.items(), key=lambda x: x[1], reverse=True)\n",
    "        big_dict = json.dumps(WORDS, ensure_ascii=False)\n",
    "        dict_file.write(big_dict)\n",
    "        \n",
    "# converting word to vector        \n",
    "def word2vec(word):\n",
    "    from collections import Counter\n",
    "    from math import sqrt\n",
    "\n",
    "    # count the characters in word\n",
    "    cw = Counter(word)\n",
    "    # precomputes a set of the different characters\n",
    "    sw = set(cw)\n",
    "    # precomputes the \"length\" of the word vector\n",
    "    lw = sqrt(sum(c*c for c in cw.values()))\n",
    "\n",
    "    # return a tuple\n",
    "    return cw, sw, lw\n",
    "\n",
    "#formula for finding cosine distance between two vectors\n",
    "def cosdis(v1, v2):\n",
    "    # which characters are common to the two words?\n",
    "    common = v1[1].intersection(v2[1])\n",
    "    # by definition of cosine distance we have\n",
    "    return sum(v1[0][ch]*v2[0][ch] for ch in common)/v1[2]/v2[2]\n",
    "\n",
    "#ranking the candidates for the given word by finding the cosine similarity between the misspelled word and all the generated candidates\n",
    "def rank(word):\n",
    "    i=0\n",
    "    check_similarity = [] \n",
    "    check_similarity = candidates(word)\n",
    "    \n",
    "    vector_w={}\n",
    "    for w in check_similarity:\n",
    "        vector_w[i] = word2vec(w)\n",
    "        i += 1\n",
    "    \n",
    "    j=0\n",
    "    sim_dict = {}\n",
    "    vector_in = word2vec(word)\n",
    "    check_sim = list(check_similarity)\n",
    "    for v in vector_w:\n",
    "        dis = cosdis(vector_in, vector_w[v])\n",
    "        sim_dict[check_sim[j]] = dis\n",
    "        j+=1\n",
    "        \n",
    "    sorted_tuples = sorted(sim_dict.items(), key=lambda item: item[1], reverse=True)\n",
    "    return sorted_tuples[:3]"
   ]
  },
  {
   "cell_type": "code",
   "execution_count": 8,
   "metadata": {},
   "outputs": [
    {
     "name": "stdout",
     "output_type": "stream",
     "text": [
      "1115585\n"
     ]
    },
    {
     "name": "stdin",
     "output_type": "stream",
     "text": [
      "Enter the word:  gratful\n"
     ]
    },
    {
     "name": "stdout",
     "output_type": "stream",
     "text": [
      "Oops! May be you want to type... [('grateful', 0.9354143466934852)]\n"
     ]
    }
   ],
   "source": [
    "def main():\n",
    "    #print(len(WORDS))\n",
    "    print(sum(WORDS.values()))\n",
    "    #print(WORDS.most_common(10))\n",
    "    #print(max(WORDS, key=P))\n",
    "    word = input(\"Enter the word: \")\n",
    "    if word in WORDS:\n",
    "        print(\"You have entered correctly spelled word\")\n",
    "    else:\n",
    "        print(\"Oops! May be you want to type...\", rank(word))\n",
    "    \n",
    "if __name__ == '__main__':\n",
    "    main()"
   ]
  },
  {
   "cell_type": "markdown",
   "metadata": {},
   "source": [
    "### References\n",
    "\n",
    "##### https://norvig.com/spell-correct.html\n",
    "##### https://www.machinelearningplus.com/nlp/cosine-similarity/\n",
    "##### https://stackoverflow.com/questions/29484529/cosine-similarity-between-two-words-in-a-list\n",
    "##### https://towardsdatascience.com/spelling-correction-how-to-make-an-accurate-and-fast-corrector-dc6d0bcbba5f"
   ]
  }
 ],
 "metadata": {
  "kernelspec": {
   "display_name": "Python 3",
   "language": "python",
   "name": "python3"
  },
  "language_info": {
   "codemirror_mode": {
    "name": "ipython",
    "version": 3
   },
   "file_extension": ".py",
   "mimetype": "text/x-python",
   "name": "python",
   "nbconvert_exporter": "python",
   "pygments_lexer": "ipython3",
   "version": "3.8.5"
  }
 },
 "nbformat": 4,
 "nbformat_minor": 4
}
